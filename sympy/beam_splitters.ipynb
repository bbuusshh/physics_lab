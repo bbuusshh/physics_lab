{
 "cells": [
  {
   "cell_type": "code",
   "execution_count": 1,
   "metadata": {},
   "outputs": [],
   "source": [
    "from sympy.physics.secondquant import evaluate_deltas, NO, wicks, Dagger, B, Bd, BKet, BBra, VarBosonicBasis, matrix_rep, contraction, InnerProduct,apply_operators\n",
    "from sympy import I, Matrix\n",
    "from sympy.abc import x, y, n, m, k, l"
   ]
  },
  {
   "cell_type": "code",
   "execution_count": 2,
   "metadata": {},
   "outputs": [],
   "source": [
    "# x1, x2,x3, x4, y1, y2, y3, y4 = symbols(\"x1 x2 x3 x4 y1 y2 y3 y4\")"
   ]
  },
  {
   "cell_type": "code",
   "execution_count": 3,
   "metadata": {},
   "outputs": [],
   "source": [
    "apply_to_vacuum = lambda x: apply_operators(x * BKet(([0,0])))"
   ]
  },
  {
   "cell_type": "markdown",
   "metadata": {},
   "source": [
    "### Define beam splitter"
   ]
  },
  {
   "cell_type": "code",
   "execution_count": 383,
   "metadata": {},
   "outputs": [],
   "source": [
    "bs = Matrix([[1, 1j], [1j, 1]]).inv()"
   ]
  },
  {
   "cell_type": "code",
   "execution_count": 390,
   "metadata": {},
   "outputs": [
    {
     "data": {
      "text/latex": [
       "$\\displaystyle \\left[\\begin{matrix}b^\\dagger_{x}\\\\b^\\dagger_{y}\\end{matrix}\\right]$"
      ],
      "text/plain": [
       "Matrix([\n",
       "[CreateBoson(x)],\n",
       "[CreateBoson(y)]])"
      ]
     },
     "execution_count": 390,
     "metadata": {},
     "output_type": "execute_result"
    }
   ],
   "source": [
    "input_ = Matrix([Bd(x), Bd(y)])\n",
    "input_"
   ]
  },
  {
   "cell_type": "code",
   "execution_count": 391,
   "metadata": {},
   "outputs": [
    {
     "data": {
      "text/latex": [
       "$\\displaystyle \\left[\\begin{matrix}0.5 \\sqrt{2} b^\\dagger_{x} - 0.5 \\sqrt{2} i b^\\dagger_{y}\\\\- 0.5 \\sqrt{2} i b^\\dagger_{x} + 0.5 \\sqrt{2} b^\\dagger_{y}\\end{matrix}\\right]$"
      ],
      "text/plain": [
       "Matrix([\n",
       "[ 0.5*sqrt(2)*CreateBoson(x) - 0.5*sqrt(2)*I*CreateBoson(y)],\n",
       "[-0.5*sqrt(2)*I*CreateBoson(x) + 0.5*sqrt(2)*CreateBoson(y)]])"
      ]
     },
     "execution_count": 391,
     "metadata": {},
     "output_type": "execute_result"
    }
   ],
   "source": [
    "output = sqrt(2) * bs * input_\n",
    "output"
   ]
  },
  {
   "cell_type": "markdown",
   "metadata": {},
   "source": [
    "#### Evaluate output"
   ]
  },
  {
   "cell_type": "code",
   "execution_count": 392,
   "metadata": {},
   "outputs": [
    {
     "data": {
      "text/latex": [
       "$\\displaystyle - 0.5 \\sqrt{2} i FockStateBosonKet\\left(\\left( 0, \\  2\\right)\\right) - 0.5 \\sqrt{2} i FockStateBosonKet\\left(\\left( 2, \\  0\\right)\\right)$"
      ],
      "text/plain": [
       "-0.5*sqrt(2)*I*FockStateBosonKet((0, 2)) - 0.5*sqrt(2)*I*FockStateBosonKet((2, 0))"
      ]
     },
     "execution_count": 392,
     "metadata": {},
     "output_type": "execute_result"
    }
   ],
   "source": [
    "expr = (output[0] * output[1]).subs([(x, 0), (y, 1)])\n",
    "apply_to_vacuum(expr)"
   ]
  },
  {
   "cell_type": "code",
   "execution_count": null,
   "metadata": {},
   "outputs": [],
   "source": []
  },
  {
   "cell_type": "code",
   "execution_count": 393,
   "metadata": {},
   "outputs": [],
   "source": [
    "input_ = Matrix([Bd(x)**n, Bd(y)**m])\n",
    "output = sqrt(n + m) * bs * input_"
   ]
  },
  {
   "cell_type": "code",
   "execution_count": 389,
   "metadata": {},
   "outputs": [
    {
     "data": {
      "text/latex": [
       "$\\displaystyle - 2.0 \\sqrt{6} i FockStateBosonKet\\left(\\left( 0, \\  4\\right)\\right) - 2.0 \\sqrt{6} i FockStateBosonKet\\left(\\left( 4, \\  0\\right)\\right)$"
      ],
      "text/plain": [
       "-2.0*sqrt(6)*I*FockStateBosonKet((0, 4)) - 2.0*sqrt(6)*I*FockStateBosonKet((4, 0))"
      ]
     },
     "execution_count": 389,
     "metadata": {},
     "output_type": "execute_result"
    }
   ],
   "source": [
    "expr = (output[0] * output[1]).subs([(x, 0), (y, 1), (n, 2), (m, 2)])\n",
    "apply_to_vacuum(expr)"
   ]
  },
  {
   "cell_type": "code",
   "execution_count": null,
   "metadata": {},
   "outputs": [],
   "source": []
  },
  {
   "cell_type": "code",
   "execution_count": 299,
   "metadata": {},
   "outputs": [],
   "source": [
    "# ops = 0.5*((Bd(0) + 1j*Bd(1))*(Bd(0) - 1j*Bd(1)))"
   ]
  },
  {
   "cell_type": "code",
   "execution_count": 300,
   "metadata": {},
   "outputs": [],
   "source": [
    "# apply_to_vacuum(ops)"
   ]
  }
 ],
 "metadata": {
  "kernelspec": {
   "display_name": "Python 3.7.4 64-bit ('base': conda)",
   "language": "python",
   "name": "python37464bitbaseconda3f49bec34ca643158e91eb78878ff2a9"
  },
  "language_info": {
   "codemirror_mode": {
    "name": "ipython",
    "version": 3
   },
   "file_extension": ".py",
   "mimetype": "text/x-python",
   "name": "python",
   "nbconvert_exporter": "python",
   "pygments_lexer": "ipython3",
   "version": "3.7.7"
  }
 },
 "nbformat": 4,
 "nbformat_minor": 4
}
