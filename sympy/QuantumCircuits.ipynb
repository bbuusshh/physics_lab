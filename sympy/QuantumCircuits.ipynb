{
 "cells": [
  {
   "cell_type": "code",
   "execution_count": 1,
   "metadata": {},
   "outputs": [],
   "source": [
    "import qiskit as qk\n",
    "\n",
    "# Creating Qubits\n",
    "q = qk.QuantumRegister(4)\n",
    "classic = qk.ClassicalRegister(4)\n",
    "# Creating Classical Bits\n",
    "# c = qk.ClassicalRegister(2)"
   ]
  },
  {
   "cell_type": "code",
   "execution_count": 2,
   "metadata": {},
   "outputs": [],
   "source": [
    "circuit = qk.QuantumCircuit(q,classic)"
   ]
  },
  {
   "cell_type": "code",
   "execution_count": 3,
   "metadata": {},
   "outputs": [
    {
     "data": {
      "text/plain": [
       "<qiskit.circuit.instructionset.InstructionSet at 0x1242ef390>"
      ]
     },
     "execution_count": 3,
     "metadata": {},
     "output_type": "execute_result"
    }
   ],
   "source": [
    "# Hadamard Gate on the first Qubit\n",
    "# circuit.h(q[0])\n",
    "# CNOT Gate on the first and second Qubits\n",
    "circuit.cz(q[0], q[1])\n",
    "circuit.cz(q[2], q[1])\n",
    "circuit.cz(q[3], q[1])\n",
    "# Measuring the Qubits\n",
    "circuit.measure(q, classic)"
   ]
  },
  {
   "cell_type": "code",
   "execution_count": 4,
   "metadata": {},
   "outputs": [
    {
     "name": "stdout",
     "output_type": "stream",
     "text": [
      "               ┌─┐            \n",
      "q0_0: |0>─■────┤M├────────────\n",
      "          │    └╥┘      ┌─┐   \n",
      "q0_1: |0>─■──■──╫──■────┤M├───\n",
      "             │  ║  │ ┌─┐└╥┘   \n",
      "q0_2: |0>────■──╫──┼─┤M├─╫────\n",
      "                ║  │ └╥┘ ║ ┌─┐\n",
      "q0_3: |0>───────╫──■──╫──╫─┤M├\n",
      "                ║     ║  ║ └╥┘\n",
      " c0_0: 0 ═══════╩═════╬══╬══╬═\n",
      "                      ║  ║  ║ \n",
      " c0_1: 0 ═════════════╬══╩══╬═\n",
      "                      ║     ║ \n",
      " c0_2: 0 ═════════════╩═════╬═\n",
      "                            ║ \n",
      " c0_3: 0 ═══════════════════╩═\n",
      "                              \n"
     ]
    }
   ],
   "source": [
    "print (circuit)"
   ]
  },
  {
   "cell_type": "code",
   "execution_count": 5,
   "metadata": {},
   "outputs": [
    {
     "name": "stdout",
     "output_type": "stream",
     "text": [
      "                   ┌─┐                                      \n",
      "q0_0: |0>───────■──┤M├──────────────────────────────────────\n",
      "         ┌───┐┌─┴─┐└╥┘┌───┐┌───┐┌───┐┌───┐┌───┐┌───┐┌───┐┌─┐\n",
      "q0_1: |0>┤ H ├┤ X ├─╫─┤ H ├┤ H ├┤ X ├┤ H ├┤ H ├┤ X ├┤ H ├┤M├\n",
      "         └───┘└───┘ ║ └───┘└───┘└─┬─┘└┬─┬┘└───┘└─┬─┘└───┘└╥┘\n",
      "q0_2: |0>───────────╫─────────────■───┤M├────────┼────────╫─\n",
      "                    ║                 └╥┘        │   ┌─┐  ║ \n",
      "q0_3: |0>───────────╫──────────────────╫─────────■───┤M├──╫─\n",
      "                    ║                  ║             └╥┘  ║ \n",
      " c0_0: 0 ═══════════╩══════════════════╬══════════════╬═══╬═\n",
      "                                       ║              ║   ║ \n",
      " c0_1: 0 ══════════════════════════════╬══════════════╬═══╩═\n",
      "                                       ║              ║     \n",
      " c0_2: 0 ══════════════════════════════╩══════════════╬═════\n",
      "                                                      ║     \n",
      " c0_3: 0 ═════════════════════════════════════════════╩═════\n",
      "                                                            \n"
     ]
    }
   ],
   "source": [
    "print(circuit.decompose())"
   ]
  },
  {
   "cell_type": "code",
   "execution_count": 6,
   "metadata": {},
   "outputs": [
    {
     "data": {
      "text/plain": [
       "sqrt(2)*|0>/2 - sqrt(2)*|1>/2"
      ]
     },
     "execution_count": 6,
     "metadata": {},
     "output_type": "execute_result"
    }
   ],
   "source": [
    "from sympy import sqrt\n",
    "from sympy.physics.quantum.qubit import Qubit\n",
    "from sympy.physics.quantum.gate import XGate, ZGate, YGate, CPHASE, Phase, IdentityGate\n",
    "from sympy.physics.quantum.gate import HadamardGate\n",
    "from sympy.physics.quantum.qapply import qapply\n",
    "qapply(HadamardGate(0)*Qubit('1'))"
   ]
  },
  {
   "cell_type": "code",
   "execution_count": 36,
   "metadata": {},
   "outputs": [],
   "source": [
    "input_state = Qubit('000') + Qubit('111')"
   ]
  },
  {
   "cell_type": "code",
   "execution_count": 37,
   "metadata": {},
   "outputs": [],
   "source": [
    "input_state = qapply(HadamardGate(j)*input_state)"
   ]
  },
  {
   "cell_type": "code",
   "execution_count": 38,
   "metadata": {},
   "outputs": [
    {
     "data": {
      "text/plain": [
       "sqrt(2)*|000>/2 + sqrt(2)*|011>/2 + sqrt(2)*|100>/2 - sqrt(2)*|111>/2"
      ]
     },
     "execution_count": 38,
     "metadata": {},
     "output_type": "execute_result"
    }
   ],
   "source": [
    "input_state"
   ]
  },
  {
   "cell_type": "code",
   "execution_count": 39,
   "metadata": {},
   "outputs": [],
   "source": [
    "stabilizer = []\n",
    "stabilizer.append(XGate(0)*ZGate(1)*IdentityGate(2))\n",
    "stabilizer.append(ZGate(0)*XGate(1)*ZGate(2))\n",
    "stabilizer.append(IdentityGate(0)*ZGate(1)*XGate(2))"
   ]
  },
  {
   "cell_type": "code",
   "execution_count": 40,
   "metadata": {},
   "outputs": [],
   "source": [
    "input_state_0 = qapply(stabilizer[0]*input_state)\n",
    "for idx, subgate in enumerate(stabilizer[1:]):\n",
    "    input_state_0 = qapply(subgate*input_state)"
   ]
  },
  {
   "cell_type": "code",
   "execution_count": 41,
   "metadata": {},
   "outputs": [
    {
     "data": {
      "text/plain": [
       "sqrt(2)*|000>/2 + sqrt(2)*|011>/2 + sqrt(2)*|100>/2 - sqrt(2)*|111>/2"
      ]
     },
     "execution_count": 41,
     "metadata": {},
     "output_type": "execute_result"
    }
   ],
   "source": [
    "input_state_0"
   ]
  },
  {
   "cell_type": "code",
   "execution_count": 22,
   "metadata": {},
   "outputs": [],
   "source": [
    "input_state = qapply(HadamardGate(j)*input_state)"
   ]
  },
  {
   "cell_type": "code",
   "execution_count": 23,
   "metadata": {},
   "outputs": [
    {
     "data": {
      "text/plain": [
       "sqrt(2)*|000>/2 + sqrt(2)*|011>/2 + sqrt(2)*|100>/2 - sqrt(2)*|111>/2"
      ]
     },
     "execution_count": 23,
     "metadata": {},
     "output_type": "execute_result"
    }
   ],
   "source": [
    "input_state"
   ]
  },
  {
   "cell_type": "code",
   "execution_count": 9,
   "metadata": {},
   "outputs": [],
   "source": [
    "input_state = qapply(CPHASE(0, 1)*input_state)\n",
    "input_state = qapply(CPHASE(1, 2)*input_state)\n",
    "input_state = qapply(CPHASE(2, 3)*input_state)"
   ]
  },
  {
   "cell_type": "code",
   "execution_count": null,
   "metadata": {},
   "outputs": [],
   "source": []
  },
  {
   "cell_type": "code",
   "execution_count": 10,
   "metadata": {},
   "outputs": [
    {
     "ename": "NameError",
     "evalue": "name 'InnerProduct' is not defined",
     "output_type": "error",
     "traceback": [
      "\u001b[0;31m---------------------------------------------------------------------------\u001b[0m",
      "\u001b[0;31mNameError\u001b[0m                                 Traceback (most recent call last)",
      "\u001b[0;32m<ipython-input-10-ee9f78b9cb0b>\u001b[0m in \u001b[0;36m<module>\u001b[0;34m()\u001b[0m\n\u001b[0;32m----> 1\u001b[0;31m \u001b[0ma\u001b[0m \u001b[0;34m=\u001b[0m \u001b[0mInnerProduct\u001b[0m\u001b[0;34m(\u001b[0m\u001b[0mQubit\u001b[0m\u001b[0;34m(\u001b[0m\u001b[0;34m'0'\u001b[0m\u001b[0;34m)\u001b[0m\u001b[0;34m.\u001b[0m\u001b[0madjoint\u001b[0m\u001b[0;34m(\u001b[0m\u001b[0;34m)\u001b[0m\u001b[0;34m,\u001b[0m \u001b[0mQubit\u001b[0m\u001b[0;34m(\u001b[0m\u001b[0;34m'00'\u001b[0m\u001b[0;34m)\u001b[0m\u001b[0;34m)\u001b[0m\u001b[0;34m\u001b[0m\u001b[0m\n\u001b[0m",
      "\u001b[0;31mNameError\u001b[0m: name 'InnerProduct' is not defined"
     ]
    }
   ],
   "source": [
    "a = InnerProduct(Qubit('0').adjoint(), Qubit('00'))"
   ]
  },
  {
   "cell_type": "code",
   "execution_count": 11,
   "metadata": {},
   "outputs": [
    {
     "ename": "NameError",
     "evalue": "name 'a' is not defined",
     "output_type": "error",
     "traceback": [
      "\u001b[0;31m---------------------------------------------------------------------------\u001b[0m",
      "\u001b[0;31mNameError\u001b[0m                                 Traceback (most recent call last)",
      "\u001b[0;32m<ipython-input-11-bd049a94efba>\u001b[0m in \u001b[0;36m<module>\u001b[0;34m()\u001b[0m\n\u001b[0;32m----> 1\u001b[0;31m \u001b[0ma\u001b[0m\u001b[0;34m.\u001b[0m\u001b[0mdoit\u001b[0m\u001b[0;34m(\u001b[0m\u001b[0;34m)\u001b[0m\u001b[0;34m\u001b[0m\u001b[0m\n\u001b[0m",
      "\u001b[0;31mNameError\u001b[0m: name 'a' is not defined"
     ]
    }
   ],
   "source": [
    "a.doit()"
   ]
  },
  {
   "cell_type": "code",
   "execution_count": 12,
   "metadata": {},
   "outputs": [],
   "source": [
    "from sympy.physics.quantum import Bra, Ket, InnerProduct \n",
    "from sympy.physics.quantum.qubit import measure_all, measure_partial"
   ]
  },
  {
   "cell_type": "code",
   "execution_count": 13,
   "metadata": {},
   "outputs": [
    {
     "data": {
      "text/plain": [
       "[(sqrt(2)*|0000>/4 + sqrt(2)*|0001>/4 + sqrt(2)*|0010>/4 - sqrt(2)*|0011>/4 + sqrt(2)*|1000>/4 + sqrt(2)*|1001>/4 + sqrt(2)*|1010>/4 - sqrt(2)*|1011>/4,\n",
       "  1/2),\n",
       " (sqrt(2)*|0100>/4 + sqrt(2)*|0101>/4 - sqrt(2)*|0110>/4 + sqrt(2)*|0111>/4 - sqrt(2)*|1100>/4 - sqrt(2)*|1101>/4 + sqrt(2)*|1110>/4 - sqrt(2)*|1111>/4,\n",
       "  1/2)]"
      ]
     },
     "execution_count": 13,
     "metadata": {},
     "output_type": "execute_result"
    }
   ],
   "source": [
    "measure_partial(input_state, (2,))"
   ]
  },
  {
   "cell_type": "code",
   "execution_count": 235,
   "metadata": {},
   "outputs": [
    {
     "data": {
      "text/plain": [
       "|0000>/4 + |0001>/4 + |0010>/4 - |0011>/4 + |0100>/4 + |0101>/4 - |0110>/4 + |0111>/4 + |1000>/4 + |1001>/4 + |1010>/4 - |1011>/4 - |1100>/4 - |1101>/4 + |1110>/4 - |1111>/4"
      ]
     },
     "execution_count": 235,
     "metadata": {},
     "output_type": "execute_result"
    }
   ],
   "source": [
    "input_state"
   ]
  },
  {
   "cell_type": "code",
   "execution_count": 173,
   "metadata": {},
   "outputs": [],
   "source": [
    "input_state_0 = input_state"
   ]
  },
  {
   "cell_type": "code",
   "execution_count": 179,
   "metadata": {},
   "outputs": [
    {
     "data": {
      "text/plain": [
       "|0000>/4 + |0001>/4 + |0010>/4 - |0011>/4 + |0100>/4 + |0101>/4 - |0110>/4 + |0111>/4 + |1000>/4 + |1001>/4 - |1010>/4 + |1011>/4 + |1100>/4 + |1101>/4 + |1110>/4 - |1111>/4"
      ]
     },
     "execution_count": 179,
     "metadata": {},
     "output_type": "execute_result"
    }
   ],
   "source": [
    "input_state"
   ]
  },
  {
   "cell_type": "code",
   "execution_count": 174,
   "metadata": {},
   "outputs": [],
   "source": [
    "stabilizer = []\n",
    "stabilizer.append(XGate(0)*ZGate(1)*IdentityGate(2)*IdentityGate(3))\n",
    "stabilizer.append(ZGate(0)*XGate(1)*ZGate(2)*ZGate(3))\n",
    "stabilizer.append(IdentityGate(0)*ZGate(1)*XGate(2)*ZGate(3))\n",
    "stabilizer.append(IdentityGate(0)*IdentityGate(1)*ZGate(2)*XGate(3))"
   ]
  },
  {
   "cell_type": "code",
   "execution_count": 175,
   "metadata": {},
   "outputs": [],
   "source": []
  },
  {
   "cell_type": "code",
   "execution_count": 176,
   "metadata": {},
   "outputs": [],
   "source": [
    "input_state_0 = qapply(stabilizer[0]*input_state_0)"
   ]
  },
  {
   "cell_type": "code",
   "execution_count": 177,
   "metadata": {},
   "outputs": [],
   "source": [
    "\n",
    "for idx, subgate in enumerate(stabilizer[1:]):\n",
    "    input_state_0 = qapply(subgate*input_state)"
   ]
  },
  {
   "cell_type": "code",
   "execution_count": 178,
   "metadata": {},
   "outputs": [
    {
     "data": {
      "text/plain": [
       "|0000>/4 + |0001>/4 - |0010>/4 + |0011>/4 - |0100>/4 - |0101>/4 - |0110>/4 + |0111>/4 + |1000>/4 + |1001>/4 + |1010>/4 - |1011>/4 - |1100>/4 - |1101>/4 + |1110>/4 - |1111>/4"
      ]
     },
     "execution_count": 178,
     "metadata": {},
     "output_type": "execute_result"
    }
   ],
   "source": [
    "input_state_0"
   ]
  },
  {
   "cell_type": "code",
   "execution_count": null,
   "metadata": {},
   "outputs": [],
   "source": []
  },
  {
   "cell_type": "code",
   "execution_count": null,
   "metadata": {},
   "outputs": [],
   "source": []
  },
  {
   "cell_type": "code",
   "execution_count": null,
   "metadata": {},
   "outputs": [],
   "source": []
  }
 ],
 "metadata": {
  "kernelspec": {
   "display_name": "Python 3",
   "language": "python",
   "name": "python3"
  },
  "language_info": {
   "codemirror_mode": {
    "name": "ipython",
    "version": 3
   },
   "file_extension": ".py",
   "mimetype": "text/x-python",
   "name": "python",
   "nbconvert_exporter": "python",
   "pygments_lexer": "ipython3",
   "version": "3.6.5"
  }
 },
 "nbformat": 4,
 "nbformat_minor": 2
}
